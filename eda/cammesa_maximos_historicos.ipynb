{
 "cells": [
  {
   "cell_type": "code",
   "execution_count": 18,
   "metadata": {
    "collapsed": true,
    "ExecuteTime": {
     "end_time": "2023-08-13T01:51:52.353187600Z",
     "start_time": "2023-08-13T01:51:52.313655600Z"
    }
   },
   "outputs": [],
   "source": [
    "import pandas as pd\n",
    "from datetime import datetime"
   ]
  },
  {
   "cell_type": "code",
   "execution_count": 19,
   "outputs": [
    {
     "data": {
      "text/plain": "    AÑO     MES  N° MES VERANO / INVIERNO  SEMANA     FECHA TIPO DIA  \\\n0  2007  ene-07       1            VERANO       1  1/1/2007  FERIADO   \n1  2007  ene-07       1            VERANO       1  1/2/2007    HÁBIL   \n2  2007  ene-07       1            VERANO       1  1/3/2007    HÁBIL   \n3  2007  ene-07       1            VERANO       1  1/4/2007    HÁBIL   \n4  2007  ene-07       1            VERANO       1  1/5/2007    HÁBIL   \n\n         DIA  N° DIA Energía SADI (GWh) Potencia Pico SADI (MW)  \\\n0      Lunes       1              277,6                 14157,0   \n1     Martes       2              325,4                 15801,0   \n2  Miércoles       3              325,5                 16136,0   \n3     Jueves       4              334,0                 16782,0   \n4    Viernes       5              320,3                 15321,0   \n\n  Hora Potencia Pico Temperatura Media Diaria GBA  (°C)  \\\n0               21,5                               29,2   \n1              21,02                               26,0   \n2              21,11                               25,0   \n3              21,16                               25,0   \n4              21,23                               22,6   \n\n  Estado del Tiempo [Claro/Nublado/Seminublado]  \n0                                             C  \n1                                             N  \n2                                             N  \n3                                             N  \n4                                             C  ",
      "text/html": "<div>\n<style scoped>\n    .dataframe tbody tr th:only-of-type {\n        vertical-align: middle;\n    }\n\n    .dataframe tbody tr th {\n        vertical-align: top;\n    }\n\n    .dataframe thead th {\n        text-align: right;\n    }\n</style>\n<table border=\"1\" class=\"dataframe\">\n  <thead>\n    <tr style=\"text-align: right;\">\n      <th></th>\n      <th>AÑO</th>\n      <th>MES</th>\n      <th>N° MES</th>\n      <th>VERANO / INVIERNO</th>\n      <th>SEMANA</th>\n      <th>FECHA</th>\n      <th>TIPO DIA</th>\n      <th>DIA</th>\n      <th>N° DIA</th>\n      <th>Energía SADI (GWh)</th>\n      <th>Potencia Pico SADI (MW)</th>\n      <th>Hora Potencia Pico</th>\n      <th>Temperatura Media Diaria GBA  (°C)</th>\n      <th>Estado del Tiempo [Claro/Nublado/Seminublado]</th>\n    </tr>\n  </thead>\n  <tbody>\n    <tr>\n      <th>0</th>\n      <td>2007</td>\n      <td>ene-07</td>\n      <td>1</td>\n      <td>VERANO</td>\n      <td>1</td>\n      <td>1/1/2007</td>\n      <td>FERIADO</td>\n      <td>Lunes</td>\n      <td>1</td>\n      <td>277,6</td>\n      <td>14157,0</td>\n      <td>21,5</td>\n      <td>29,2</td>\n      <td>C</td>\n    </tr>\n    <tr>\n      <th>1</th>\n      <td>2007</td>\n      <td>ene-07</td>\n      <td>1</td>\n      <td>VERANO</td>\n      <td>1</td>\n      <td>1/2/2007</td>\n      <td>HÁBIL</td>\n      <td>Martes</td>\n      <td>2</td>\n      <td>325,4</td>\n      <td>15801,0</td>\n      <td>21,02</td>\n      <td>26,0</td>\n      <td>N</td>\n    </tr>\n    <tr>\n      <th>2</th>\n      <td>2007</td>\n      <td>ene-07</td>\n      <td>1</td>\n      <td>VERANO</td>\n      <td>1</td>\n      <td>1/3/2007</td>\n      <td>HÁBIL</td>\n      <td>Miércoles</td>\n      <td>3</td>\n      <td>325,5</td>\n      <td>16136,0</td>\n      <td>21,11</td>\n      <td>25,0</td>\n      <td>N</td>\n    </tr>\n    <tr>\n      <th>3</th>\n      <td>2007</td>\n      <td>ene-07</td>\n      <td>1</td>\n      <td>VERANO</td>\n      <td>1</td>\n      <td>1/4/2007</td>\n      <td>HÁBIL</td>\n      <td>Jueves</td>\n      <td>4</td>\n      <td>334,0</td>\n      <td>16782,0</td>\n      <td>21,16</td>\n      <td>25,0</td>\n      <td>N</td>\n    </tr>\n    <tr>\n      <th>4</th>\n      <td>2007</td>\n      <td>ene-07</td>\n      <td>1</td>\n      <td>VERANO</td>\n      <td>1</td>\n      <td>1/5/2007</td>\n      <td>HÁBIL</td>\n      <td>Viernes</td>\n      <td>5</td>\n      <td>320,3</td>\n      <td>15321,0</td>\n      <td>21,23</td>\n      <td>22,6</td>\n      <td>C</td>\n    </tr>\n  </tbody>\n</table>\n</div>"
     },
     "execution_count": 19,
     "metadata": {},
     "output_type": "execute_result"
    }
   ],
   "source": [
    "df = pd.read_csv('./data/cammesa/maximos_historicos.csv')\n",
    "df.head()"
   ],
   "metadata": {
    "collapsed": false,
    "ExecuteTime": {
     "end_time": "2023-08-13T01:51:54.660998200Z",
     "start_time": "2023-08-13T01:51:54.620561100Z"
    }
   }
  },
  {
   "cell_type": "code",
   "execution_count": 20,
   "outputs": [
    {
     "data": {
      "text/plain": "     VERANO / INVIERNO  SEMANA      FECHA TIPO DIA        DIA  \\\n0               VERANO       1   1/1/2007  FERIADO      Lunes   \n1               VERANO       1   1/2/2007    HÁBIL     Martes   \n2               VERANO       1   1/3/2007    HÁBIL  Miércoles   \n3               VERANO       1   1/4/2007    HÁBIL     Jueves   \n4               VERANO       1   1/5/2007    HÁBIL    Viernes   \n...                ...     ...        ...      ...        ...   \n6001            VERANO      23   6/7/2023    HÁBIL  Miércoles   \n6002            VERANO      23   6/8/2023    HÁBIL     Jueves   \n6003            VERANO      23   6/9/2023    HÁBIL    Viernes   \n6004            VERANO      23  6/10/2023   SÁBADO     Sábado   \n6005            VERANO      23  6/11/2023  DOMINGO    Domingo   \n\n     Energía SADI (GWh) Potencia Pico SADI (MW) Hora Potencia Pico  \\\n0                 277,6                 14157,0               21,5   \n1                 325,4                 15801,0              21,02   \n2                 325,5                 16136,0              21,11   \n3                 334,0                 16782,0              21,16   \n4                 320,3                 15321,0              21,23   \n...                 ...                     ...                ...   \n6001              399,4                 19646,0                 21   \n6002              391,9                 19004,0              20,07   \n6003              391,8                 19758,0              20.49   \n6004              405,3                 20424,0              20.20   \n6005              404,1                 21502,0              21,03   \n\n     Temperatura Media Diaria GBA  (°C)  \\\n0                                  29,2   \n1                                  26,0   \n2                                  25,0   \n3                                  25,0   \n4                                  22,6   \n...                                 ...   \n6001                               18,4   \n6002                               21,8   \n6003                               18,0   \n6004                               10,6   \n6005                                8,3   \n\n     Estado del Tiempo [Claro/Nublado/Seminublado]  \n0                                                C  \n1                                                N  \n2                                                N  \n3                                                N  \n4                                                C  \n...                                            ...  \n6001                                             N  \n6002                                             N  \n6003                                             N  \n6004                                             N  \n6005                                             C  \n\n[6006 rows x 10 columns]",
      "text/html": "<div>\n<style scoped>\n    .dataframe tbody tr th:only-of-type {\n        vertical-align: middle;\n    }\n\n    .dataframe tbody tr th {\n        vertical-align: top;\n    }\n\n    .dataframe thead th {\n        text-align: right;\n    }\n</style>\n<table border=\"1\" class=\"dataframe\">\n  <thead>\n    <tr style=\"text-align: right;\">\n      <th></th>\n      <th>VERANO / INVIERNO</th>\n      <th>SEMANA</th>\n      <th>FECHA</th>\n      <th>TIPO DIA</th>\n      <th>DIA</th>\n      <th>Energía SADI (GWh)</th>\n      <th>Potencia Pico SADI (MW)</th>\n      <th>Hora Potencia Pico</th>\n      <th>Temperatura Media Diaria GBA  (°C)</th>\n      <th>Estado del Tiempo [Claro/Nublado/Seminublado]</th>\n    </tr>\n  </thead>\n  <tbody>\n    <tr>\n      <th>0</th>\n      <td>VERANO</td>\n      <td>1</td>\n      <td>1/1/2007</td>\n      <td>FERIADO</td>\n      <td>Lunes</td>\n      <td>277,6</td>\n      <td>14157,0</td>\n      <td>21,5</td>\n      <td>29,2</td>\n      <td>C</td>\n    </tr>\n    <tr>\n      <th>1</th>\n      <td>VERANO</td>\n      <td>1</td>\n      <td>1/2/2007</td>\n      <td>HÁBIL</td>\n      <td>Martes</td>\n      <td>325,4</td>\n      <td>15801,0</td>\n      <td>21,02</td>\n      <td>26,0</td>\n      <td>N</td>\n    </tr>\n    <tr>\n      <th>2</th>\n      <td>VERANO</td>\n      <td>1</td>\n      <td>1/3/2007</td>\n      <td>HÁBIL</td>\n      <td>Miércoles</td>\n      <td>325,5</td>\n      <td>16136,0</td>\n      <td>21,11</td>\n      <td>25,0</td>\n      <td>N</td>\n    </tr>\n    <tr>\n      <th>3</th>\n      <td>VERANO</td>\n      <td>1</td>\n      <td>1/4/2007</td>\n      <td>HÁBIL</td>\n      <td>Jueves</td>\n      <td>334,0</td>\n      <td>16782,0</td>\n      <td>21,16</td>\n      <td>25,0</td>\n      <td>N</td>\n    </tr>\n    <tr>\n      <th>4</th>\n      <td>VERANO</td>\n      <td>1</td>\n      <td>1/5/2007</td>\n      <td>HÁBIL</td>\n      <td>Viernes</td>\n      <td>320,3</td>\n      <td>15321,0</td>\n      <td>21,23</td>\n      <td>22,6</td>\n      <td>C</td>\n    </tr>\n    <tr>\n      <th>...</th>\n      <td>...</td>\n      <td>...</td>\n      <td>...</td>\n      <td>...</td>\n      <td>...</td>\n      <td>...</td>\n      <td>...</td>\n      <td>...</td>\n      <td>...</td>\n      <td>...</td>\n    </tr>\n    <tr>\n      <th>6001</th>\n      <td>VERANO</td>\n      <td>23</td>\n      <td>6/7/2023</td>\n      <td>HÁBIL</td>\n      <td>Miércoles</td>\n      <td>399,4</td>\n      <td>19646,0</td>\n      <td>21</td>\n      <td>18,4</td>\n      <td>N</td>\n    </tr>\n    <tr>\n      <th>6002</th>\n      <td>VERANO</td>\n      <td>23</td>\n      <td>6/8/2023</td>\n      <td>HÁBIL</td>\n      <td>Jueves</td>\n      <td>391,9</td>\n      <td>19004,0</td>\n      <td>20,07</td>\n      <td>21,8</td>\n      <td>N</td>\n    </tr>\n    <tr>\n      <th>6003</th>\n      <td>VERANO</td>\n      <td>23</td>\n      <td>6/9/2023</td>\n      <td>HÁBIL</td>\n      <td>Viernes</td>\n      <td>391,8</td>\n      <td>19758,0</td>\n      <td>20.49</td>\n      <td>18,0</td>\n      <td>N</td>\n    </tr>\n    <tr>\n      <th>6004</th>\n      <td>VERANO</td>\n      <td>23</td>\n      <td>6/10/2023</td>\n      <td>SÁBADO</td>\n      <td>Sábado</td>\n      <td>405,3</td>\n      <td>20424,0</td>\n      <td>20.20</td>\n      <td>10,6</td>\n      <td>N</td>\n    </tr>\n    <tr>\n      <th>6005</th>\n      <td>VERANO</td>\n      <td>23</td>\n      <td>6/11/2023</td>\n      <td>DOMINGO</td>\n      <td>Domingo</td>\n      <td>404,1</td>\n      <td>21502,0</td>\n      <td>21,03</td>\n      <td>8,3</td>\n      <td>C</td>\n    </tr>\n  </tbody>\n</table>\n<p>6006 rows × 10 columns</p>\n</div>"
     },
     "execution_count": 20,
     "metadata": {},
     "output_type": "execute_result"
    }
   ],
   "source": [
    "df_maximos = df[['VERANO / INVIERNO', 'SEMANA', 'FECHA', 'TIPO DIA', 'DIA', 'Energía SADI (GWh)', 'Potencia Pico SADI (MW)', 'Hora Potencia Pico', 'Temperatura Media Diaria GBA  (°C)', 'Estado del Tiempo [Claro/Nublado/Seminublado]']]\n",
    "df_maximos"
   ],
   "metadata": {
    "collapsed": false,
    "ExecuteTime": {
     "end_time": "2023-08-13T01:51:56.724519700Z",
     "start_time": "2023-08-13T01:51:56.698860400Z"
    }
   }
  },
  {
   "cell_type": "code",
   "execution_count": 21,
   "outputs": [
    {
     "name": "stdout",
     "output_type": "stream",
     "text": [
      "<class 'pandas.core.frame.DataFrame'>\n",
      "RangeIndex: 6006 entries, 0 to 6005\n",
      "Data columns (total 10 columns):\n",
      " #   Column                                         Non-Null Count  Dtype \n",
      "---  ------                                         --------------  ----- \n",
      " 0   VERANO / INVIERNO                              6006 non-null   object\n",
      " 1   SEMANA                                         6006 non-null   int64 \n",
      " 2   FECHA                                          6006 non-null   object\n",
      " 3   TIPO DIA                                       6006 non-null   object\n",
      " 4   DIA                                            6006 non-null   object\n",
      " 5   Energía SADI (GWh)                             6006 non-null   object\n",
      " 6   Potencia Pico SADI (MW)                        6006 non-null   object\n",
      " 7   Hora Potencia Pico                             6006 non-null   object\n",
      " 8   Temperatura Media Diaria GBA  (°C)             6006 non-null   object\n",
      " 9   Estado del Tiempo [Claro/Nublado/Seminublado]  6006 non-null   object\n",
      "dtypes: int64(1), object(9)\n",
      "memory usage: 469.3+ KB\n"
     ]
    }
   ],
   "source": [
    "df_maximos.info()"
   ],
   "metadata": {
    "collapsed": false,
    "ExecuteTime": {
     "end_time": "2023-08-13T01:51:59.761423Z",
     "start_time": "2023-08-13T01:51:59.747864700Z"
    }
   }
  },
  {
   "cell_type": "code",
   "execution_count": 22,
   "outputs": [
    {
     "name": "stderr",
     "output_type": "stream",
     "text": [
      "C:\\Users\\javic\\AppData\\Local\\Temp\\ipykernel_14668\\2634929784.py:1: SettingWithCopyWarning: \n",
      "A value is trying to be set on a copy of a slice from a DataFrame.\n",
      "Try using .loc[row_indexer,col_indexer] = value instead\n",
      "\n",
      "See the caveats in the documentation: https://pandas.pydata.org/pandas-docs/stable/user_guide/indexing.html#returning-a-view-versus-a-copy\n",
      "  df_maximos['Energía SADI (GWh)'] = df_maximos['Energía SADI (GWh)'].str.replace(',', '.').astype(float)\n",
      "C:\\Users\\javic\\AppData\\Local\\Temp\\ipykernel_14668\\2634929784.py:2: SettingWithCopyWarning: \n",
      "A value is trying to be set on a copy of a slice from a DataFrame.\n",
      "Try using .loc[row_indexer,col_indexer] = value instead\n",
      "\n",
      "See the caveats in the documentation: https://pandas.pydata.org/pandas-docs/stable/user_guide/indexing.html#returning-a-view-versus-a-copy\n",
      "  df_maximos['Potencia Pico SADI (MW)'] = df_maximos['Potencia Pico SADI (MW)'].str.replace(',', '.').astype(float)\n",
      "C:\\Users\\javic\\AppData\\Local\\Temp\\ipykernel_14668\\2634929784.py:3: SettingWithCopyWarning: \n",
      "A value is trying to be set on a copy of a slice from a DataFrame.\n",
      "Try using .loc[row_indexer,col_indexer] = value instead\n",
      "\n",
      "See the caveats in the documentation: https://pandas.pydata.org/pandas-docs/stable/user_guide/indexing.html#returning-a-view-versus-a-copy\n",
      "  df_maximos['Temperatura Media Diaria GBA  (°C)'] = df_maximos['Temperatura Media Diaria GBA  (°C)'].str.replace(',', '.').astype(float)\n"
     ]
    }
   ],
   "source": [
    "df_maximos['Energía SADI (GWh)'] = df_maximos['Energía SADI (GWh)'].str.replace(',', '.').astype(float)\n",
    "df_maximos['Potencia Pico SADI (MW)'] = df_maximos['Potencia Pico SADI (MW)'].str.replace(',', '.').astype(float)\n",
    "df_maximos['Temperatura Media Diaria GBA  (°C)'] = df_maximos['Temperatura Media Diaria GBA  (°C)'].str.replace(',', '.').astype(float)"
   ],
   "metadata": {
    "collapsed": false,
    "ExecuteTime": {
     "end_time": "2023-08-13T01:52:04.685418700Z",
     "start_time": "2023-08-13T01:52:04.675893600Z"
    }
   }
  },
  {
   "cell_type": "code",
   "execution_count": 23,
   "outputs": [
    {
     "data": {
      "text/plain": "     VERANO / INVIERNO  SEMANA     FECHA TIPO DIA      DIA  \\\n5361          INVIERNO      35  9/5/2021  DOMINGO  Domingo   \n\n      Energía SADI (GWh)  Potencia Pico SADI (MW) Hora Potencia Pico  \\\n5361               330.0                  17248.0             210,50   \n\n      Temperatura Media Diaria GBA  (°C)  \\\n5361                                14.7   \n\n     Estado del Tiempo [Claro/Nublado/Seminublado]  \n5361                                             N  ",
      "text/html": "<div>\n<style scoped>\n    .dataframe tbody tr th:only-of-type {\n        vertical-align: middle;\n    }\n\n    .dataframe tbody tr th {\n        vertical-align: top;\n    }\n\n    .dataframe thead th {\n        text-align: right;\n    }\n</style>\n<table border=\"1\" class=\"dataframe\">\n  <thead>\n    <tr style=\"text-align: right;\">\n      <th></th>\n      <th>VERANO / INVIERNO</th>\n      <th>SEMANA</th>\n      <th>FECHA</th>\n      <th>TIPO DIA</th>\n      <th>DIA</th>\n      <th>Energía SADI (GWh)</th>\n      <th>Potencia Pico SADI (MW)</th>\n      <th>Hora Potencia Pico</th>\n      <th>Temperatura Media Diaria GBA  (°C)</th>\n      <th>Estado del Tiempo [Claro/Nublado/Seminublado]</th>\n    </tr>\n  </thead>\n  <tbody>\n    <tr>\n      <th>5361</th>\n      <td>INVIERNO</td>\n      <td>35</td>\n      <td>9/5/2021</td>\n      <td>DOMINGO</td>\n      <td>Domingo</td>\n      <td>330.0</td>\n      <td>17248.0</td>\n      <td>210,50</td>\n      <td>14.7</td>\n      <td>N</td>\n    </tr>\n  </tbody>\n</table>\n</div>"
     },
     "execution_count": 23,
     "metadata": {},
     "output_type": "execute_result"
    }
   ],
   "source": [
    "df_maximos[df_maximos['Hora Potencia Pico'].str.len() > 5]"
   ],
   "metadata": {
    "collapsed": false,
    "ExecuteTime": {
     "end_time": "2023-08-13T01:52:10.794375700Z",
     "start_time": "2023-08-13T01:52:10.776455800Z"
    }
   }
  },
  {
   "cell_type": "code",
   "execution_count": 24,
   "outputs": [
    {
     "data": {
      "text/plain": "     VERANO / INVIERNO  SEMANA       FECHA TIPO DIA        DIA  \\\n0               VERANO       1    1/1/2007  FERIADO      Lunes   \n32              VERANO       5    2/2/2007    HÁBIL    Viernes   \n58              VERANO       9   2/28/2007    HÁBIL  Miércoles   \n278             VERANO      40   10/6/2007   SÁBADO     Sábado   \n352             VERANO      51  12/19/2007    HÁBIL  Miércoles   \n354             VERANO      51  12/21/2007    HÁBIL    Viernes   \n363             VERANO      52  12/30/2007  DOMINGO    Domingo   \n364             VERANO      53  12/31/2007    HÁBIL      Lunes   \n365             VERANO       1    1/1/2008  FERIADO     Martes   \n392             VERANO       5   1/28/2008    HÁBIL      Lunes   \n393             VERANO       5   1/29/2008    HÁBIL     Martes   \n394             VERANO       5   1/30/2008    HÁBIL  Miércoles   \n395             VERANO       5   1/31/2008    HÁBIL     Jueves   \n396             VERANO       5    2/1/2008    HÁBIL    Viernes   \n397             VERANO       5    2/2/2008   SÁBADO     Sábado   \n398             VERANO       5    2/3/2008  DOMINGO    Domingo   \n443             VERANO      12   3/19/2008    HÁBIL  Miércoles   \n451             VERANO      13   3/27/2008    HÁBIL     Jueves   \n460           INVIERNO      14    4/5/2008   SÁBADO     Sábado   \n473           INVIERNO      16   4/18/2008    HÁBIL    Viernes   \n474           INVIERNO      16   4/19/2008   SÁBADO     Sábado   \n475           INVIERNO      16   4/20/2008  DOMINGO    Domingo   \n494           INVIERNO      19    5/9/2008    HÁBIL    Viernes   \n495           INVIERNO      19   5/10/2008   SÁBADO     Sábado   \n496           INVIERNO      19   5/11/2008  DOMINGO    Domingo   \n506           INVIERNO      21   5/21/2008    HÁBIL  Miércoles   \n560           INVIERNO      29   7/14/2008    HÁBIL      Lunes   \n578           INVIERNO      31    8/1/2008    HÁBIL    Viernes   \n579           INVIERNO      31    8/2/2008   SÁBADO     Sábado   \n580           INVIERNO      31    8/3/2008  DOMINGO    Domingo   \n4736            VERANO      51  12/20/2019    HÁBIL    Viernes   \n5620          INVIERNO      20   5/22/2022  DOMINGO    Domingo   \n5622          INVIERNO      21   5/24/2022    HÁBIL     Martes   \n5844            VERANO      52    1/1/2023  FERIADO    Domingo   \n5848            VERANO       1    1/5/2023    HÁBIL     Jueves   \n5852            VERANO       2    1/9/2023    HÁBIL      Lunes   \n5859            VERANO       3   1/16/2023    HÁBIL      Lunes   \n5891            VERANO       7   2/17/2023    HÁBIL    Viernes   \n5918            VERANO      11   3/16/2023    HÁBIL     Jueves   \n5993            VERANO      22   5/30/2023    HÁBIL     Martes   \n6001            VERANO      23    6/7/2023    HÁBIL  Miércoles   \n\n      Energía SADI (GWh)  Potencia Pico SADI (MW) Hora Potencia Pico  \\\n0                  277.6                  14157.0               21,5   \n32                 355.6                  17517.0               21,2   \n58                 319.3                  16442.0               20,5   \n278                273.2                  14360.0               20,4   \n352                341.7                  17010.0               21,1   \n354                365.8                  17490.0               21,2   \n363                291.8                  15956.0               22,6   \n364                315.7                  14534.0               22,2   \n365                283.9                  14548.0               22,5   \n392                317.5                  15531.0               21,5   \n393                323.9                  15450.0               21,6   \n394                322.7                  15577.0               22,1   \n395                327.4                  16029.0               22,1   \n396                331.9                  15962.0               22,0   \n397                306.8                  14848.0               22,0   \n398                268.9                  14328.0               22,3   \n443                343.1                  17697.0               20,2   \n451                314.6                  15859.0               20,1   \n460                288.0                  15324.0               20,2   \n473                309.8                  16186.0               19,6   \n474                287.8                  15188.0               19,6   \n475                263.3                  14348.0               20,0   \n494                315.9                  16666.0               19,5   \n495                292.5                  15945.0               20,1   \n496                265.7                  14476.0               20,1   \n506                321.0                  17037.0               19,3   \n560                309.7                  16492.0               19,1   \n578                337.0                  17340.0               19,4   \n579                317.5                  16821.0               20,0   \n580                293.0                  16145.0               20,6   \n4736               411.8                  18463.0               9,41   \n5620               360.4                  18530.0               21,2   \n5622               405.0                  19836.0               21,1   \n5844               358.0                  16521.0               22.8   \n5848               460.8                  23436.0               15.4   \n5852               504.3                  26099.0               15.3   \n5859               512.9                  26609.0               15.5   \n5891               360.3                  17356.0               21.1   \n5918               538.5                  26608.0                 15   \n5993               432.9                  21451.0                 21   \n6001               399.4                  19646.0                 21   \n\n      Temperatura Media Diaria GBA  (°C)  \\\n0                                   29.2   \n32                                  28.6   \n58                                  21.0   \n278                                 19.5   \n352                                 20.8   \n354                                 29.5   \n363                                 27.8   \n364                                 31.0   \n365                                 28.1   \n392                                 23.5   \n393                                 25.1   \n394                                 25.0   \n395                                 25.1   \n396                                 26.0   \n397                                 26.8   \n398                                 21.1   \n443                                 23.7   \n451                                 22.1   \n460                                 22.8   \n473                                 20.8   \n474                                 20.8   \n475                                 22.4   \n494                                 14.1   \n495                                 14.1   \n496                                 14.3   \n506                                 21.0   \n560                                 16.1   \n578                                 13.3   \n579                                 10.6   \n580                                  7.9   \n4736                                22.9   \n5620                                14.7   \n5622                                17.6   \n5844                                24.5   \n5848                                26.3   \n5852                                27.7   \n5859                                30.7   \n5891                                12.5   \n5918                                27.9   \n5993                                12.9   \n6001                                18.4   \n\n     Estado del Tiempo [Claro/Nublado/Seminublado]  \n0                                                C  \n32                                               C  \n58                                               N  \n278                                             SN  \n352                                              C  \n354                                              N  \n363                                              C  \n364                                              C  \n365                                              C  \n392                                              N  \n393                                              N  \n394                                              N  \n395                                             SN  \n396                                             SN  \n397                                              N  \n398                                             SN  \n443                                             SN  \n451                                              N  \n460                                              C  \n473                                              C  \n474                                             SN  \n475                                             SN  \n494                                              C  \n495                                             SN  \n496                                             SN  \n506                                             SN  \n560                                              C  \n578                                              C  \n579                                              C  \n580                                              C  \n4736                                             N  \n5620                                            SN  \n5622                                             N  \n5844                                             N  \n5848                                             C  \n5852                                             C  \n5859                                             C  \n5891                                             N  \n5918                                             N  \n5993                                             N  \n6001                                             N  ",
      "text/html": "<div>\n<style scoped>\n    .dataframe tbody tr th:only-of-type {\n        vertical-align: middle;\n    }\n\n    .dataframe tbody tr th {\n        vertical-align: top;\n    }\n\n    .dataframe thead th {\n        text-align: right;\n    }\n</style>\n<table border=\"1\" class=\"dataframe\">\n  <thead>\n    <tr style=\"text-align: right;\">\n      <th></th>\n      <th>VERANO / INVIERNO</th>\n      <th>SEMANA</th>\n      <th>FECHA</th>\n      <th>TIPO DIA</th>\n      <th>DIA</th>\n      <th>Energía SADI (GWh)</th>\n      <th>Potencia Pico SADI (MW)</th>\n      <th>Hora Potencia Pico</th>\n      <th>Temperatura Media Diaria GBA  (°C)</th>\n      <th>Estado del Tiempo [Claro/Nublado/Seminublado]</th>\n    </tr>\n  </thead>\n  <tbody>\n    <tr>\n      <th>0</th>\n      <td>VERANO</td>\n      <td>1</td>\n      <td>1/1/2007</td>\n      <td>FERIADO</td>\n      <td>Lunes</td>\n      <td>277.6</td>\n      <td>14157.0</td>\n      <td>21,5</td>\n      <td>29.2</td>\n      <td>C</td>\n    </tr>\n    <tr>\n      <th>32</th>\n      <td>VERANO</td>\n      <td>5</td>\n      <td>2/2/2007</td>\n      <td>HÁBIL</td>\n      <td>Viernes</td>\n      <td>355.6</td>\n      <td>17517.0</td>\n      <td>21,2</td>\n      <td>28.6</td>\n      <td>C</td>\n    </tr>\n    <tr>\n      <th>58</th>\n      <td>VERANO</td>\n      <td>9</td>\n      <td>2/28/2007</td>\n      <td>HÁBIL</td>\n      <td>Miércoles</td>\n      <td>319.3</td>\n      <td>16442.0</td>\n      <td>20,5</td>\n      <td>21.0</td>\n      <td>N</td>\n    </tr>\n    <tr>\n      <th>278</th>\n      <td>VERANO</td>\n      <td>40</td>\n      <td>10/6/2007</td>\n      <td>SÁBADO</td>\n      <td>Sábado</td>\n      <td>273.2</td>\n      <td>14360.0</td>\n      <td>20,4</td>\n      <td>19.5</td>\n      <td>SN</td>\n    </tr>\n    <tr>\n      <th>352</th>\n      <td>VERANO</td>\n      <td>51</td>\n      <td>12/19/2007</td>\n      <td>HÁBIL</td>\n      <td>Miércoles</td>\n      <td>341.7</td>\n      <td>17010.0</td>\n      <td>21,1</td>\n      <td>20.8</td>\n      <td>C</td>\n    </tr>\n    <tr>\n      <th>354</th>\n      <td>VERANO</td>\n      <td>51</td>\n      <td>12/21/2007</td>\n      <td>HÁBIL</td>\n      <td>Viernes</td>\n      <td>365.8</td>\n      <td>17490.0</td>\n      <td>21,2</td>\n      <td>29.5</td>\n      <td>N</td>\n    </tr>\n    <tr>\n      <th>363</th>\n      <td>VERANO</td>\n      <td>52</td>\n      <td>12/30/2007</td>\n      <td>DOMINGO</td>\n      <td>Domingo</td>\n      <td>291.8</td>\n      <td>15956.0</td>\n      <td>22,6</td>\n      <td>27.8</td>\n      <td>C</td>\n    </tr>\n    <tr>\n      <th>364</th>\n      <td>VERANO</td>\n      <td>53</td>\n      <td>12/31/2007</td>\n      <td>HÁBIL</td>\n      <td>Lunes</td>\n      <td>315.7</td>\n      <td>14534.0</td>\n      <td>22,2</td>\n      <td>31.0</td>\n      <td>C</td>\n    </tr>\n    <tr>\n      <th>365</th>\n      <td>VERANO</td>\n      <td>1</td>\n      <td>1/1/2008</td>\n      <td>FERIADO</td>\n      <td>Martes</td>\n      <td>283.9</td>\n      <td>14548.0</td>\n      <td>22,5</td>\n      <td>28.1</td>\n      <td>C</td>\n    </tr>\n    <tr>\n      <th>392</th>\n      <td>VERANO</td>\n      <td>5</td>\n      <td>1/28/2008</td>\n      <td>HÁBIL</td>\n      <td>Lunes</td>\n      <td>317.5</td>\n      <td>15531.0</td>\n      <td>21,5</td>\n      <td>23.5</td>\n      <td>N</td>\n    </tr>\n    <tr>\n      <th>393</th>\n      <td>VERANO</td>\n      <td>5</td>\n      <td>1/29/2008</td>\n      <td>HÁBIL</td>\n      <td>Martes</td>\n      <td>323.9</td>\n      <td>15450.0</td>\n      <td>21,6</td>\n      <td>25.1</td>\n      <td>N</td>\n    </tr>\n    <tr>\n      <th>394</th>\n      <td>VERANO</td>\n      <td>5</td>\n      <td>1/30/2008</td>\n      <td>HÁBIL</td>\n      <td>Miércoles</td>\n      <td>322.7</td>\n      <td>15577.0</td>\n      <td>22,1</td>\n      <td>25.0</td>\n      <td>N</td>\n    </tr>\n    <tr>\n      <th>395</th>\n      <td>VERANO</td>\n      <td>5</td>\n      <td>1/31/2008</td>\n      <td>HÁBIL</td>\n      <td>Jueves</td>\n      <td>327.4</td>\n      <td>16029.0</td>\n      <td>22,1</td>\n      <td>25.1</td>\n      <td>SN</td>\n    </tr>\n    <tr>\n      <th>396</th>\n      <td>VERANO</td>\n      <td>5</td>\n      <td>2/1/2008</td>\n      <td>HÁBIL</td>\n      <td>Viernes</td>\n      <td>331.9</td>\n      <td>15962.0</td>\n      <td>22,0</td>\n      <td>26.0</td>\n      <td>SN</td>\n    </tr>\n    <tr>\n      <th>397</th>\n      <td>VERANO</td>\n      <td>5</td>\n      <td>2/2/2008</td>\n      <td>SÁBADO</td>\n      <td>Sábado</td>\n      <td>306.8</td>\n      <td>14848.0</td>\n      <td>22,0</td>\n      <td>26.8</td>\n      <td>N</td>\n    </tr>\n    <tr>\n      <th>398</th>\n      <td>VERANO</td>\n      <td>5</td>\n      <td>2/3/2008</td>\n      <td>DOMINGO</td>\n      <td>Domingo</td>\n      <td>268.9</td>\n      <td>14328.0</td>\n      <td>22,3</td>\n      <td>21.1</td>\n      <td>SN</td>\n    </tr>\n    <tr>\n      <th>443</th>\n      <td>VERANO</td>\n      <td>12</td>\n      <td>3/19/2008</td>\n      <td>HÁBIL</td>\n      <td>Miércoles</td>\n      <td>343.1</td>\n      <td>17697.0</td>\n      <td>20,2</td>\n      <td>23.7</td>\n      <td>SN</td>\n    </tr>\n    <tr>\n      <th>451</th>\n      <td>VERANO</td>\n      <td>13</td>\n      <td>3/27/2008</td>\n      <td>HÁBIL</td>\n      <td>Jueves</td>\n      <td>314.6</td>\n      <td>15859.0</td>\n      <td>20,1</td>\n      <td>22.1</td>\n      <td>N</td>\n    </tr>\n    <tr>\n      <th>460</th>\n      <td>INVIERNO</td>\n      <td>14</td>\n      <td>4/5/2008</td>\n      <td>SÁBADO</td>\n      <td>Sábado</td>\n      <td>288.0</td>\n      <td>15324.0</td>\n      <td>20,2</td>\n      <td>22.8</td>\n      <td>C</td>\n    </tr>\n    <tr>\n      <th>473</th>\n      <td>INVIERNO</td>\n      <td>16</td>\n      <td>4/18/2008</td>\n      <td>HÁBIL</td>\n      <td>Viernes</td>\n      <td>309.8</td>\n      <td>16186.0</td>\n      <td>19,6</td>\n      <td>20.8</td>\n      <td>C</td>\n    </tr>\n    <tr>\n      <th>474</th>\n      <td>INVIERNO</td>\n      <td>16</td>\n      <td>4/19/2008</td>\n      <td>SÁBADO</td>\n      <td>Sábado</td>\n      <td>287.8</td>\n      <td>15188.0</td>\n      <td>19,6</td>\n      <td>20.8</td>\n      <td>SN</td>\n    </tr>\n    <tr>\n      <th>475</th>\n      <td>INVIERNO</td>\n      <td>16</td>\n      <td>4/20/2008</td>\n      <td>DOMINGO</td>\n      <td>Domingo</td>\n      <td>263.3</td>\n      <td>14348.0</td>\n      <td>20,0</td>\n      <td>22.4</td>\n      <td>SN</td>\n    </tr>\n    <tr>\n      <th>494</th>\n      <td>INVIERNO</td>\n      <td>19</td>\n      <td>5/9/2008</td>\n      <td>HÁBIL</td>\n      <td>Viernes</td>\n      <td>315.9</td>\n      <td>16666.0</td>\n      <td>19,5</td>\n      <td>14.1</td>\n      <td>C</td>\n    </tr>\n    <tr>\n      <th>495</th>\n      <td>INVIERNO</td>\n      <td>19</td>\n      <td>5/10/2008</td>\n      <td>SÁBADO</td>\n      <td>Sábado</td>\n      <td>292.5</td>\n      <td>15945.0</td>\n      <td>20,1</td>\n      <td>14.1</td>\n      <td>SN</td>\n    </tr>\n    <tr>\n      <th>496</th>\n      <td>INVIERNO</td>\n      <td>19</td>\n      <td>5/11/2008</td>\n      <td>DOMINGO</td>\n      <td>Domingo</td>\n      <td>265.7</td>\n      <td>14476.0</td>\n      <td>20,1</td>\n      <td>14.3</td>\n      <td>SN</td>\n    </tr>\n    <tr>\n      <th>506</th>\n      <td>INVIERNO</td>\n      <td>21</td>\n      <td>5/21/2008</td>\n      <td>HÁBIL</td>\n      <td>Miércoles</td>\n      <td>321.0</td>\n      <td>17037.0</td>\n      <td>19,3</td>\n      <td>21.0</td>\n      <td>SN</td>\n    </tr>\n    <tr>\n      <th>560</th>\n      <td>INVIERNO</td>\n      <td>29</td>\n      <td>7/14/2008</td>\n      <td>HÁBIL</td>\n      <td>Lunes</td>\n      <td>309.7</td>\n      <td>16492.0</td>\n      <td>19,1</td>\n      <td>16.1</td>\n      <td>C</td>\n    </tr>\n    <tr>\n      <th>578</th>\n      <td>INVIERNO</td>\n      <td>31</td>\n      <td>8/1/2008</td>\n      <td>HÁBIL</td>\n      <td>Viernes</td>\n      <td>337.0</td>\n      <td>17340.0</td>\n      <td>19,4</td>\n      <td>13.3</td>\n      <td>C</td>\n    </tr>\n    <tr>\n      <th>579</th>\n      <td>INVIERNO</td>\n      <td>31</td>\n      <td>8/2/2008</td>\n      <td>SÁBADO</td>\n      <td>Sábado</td>\n      <td>317.5</td>\n      <td>16821.0</td>\n      <td>20,0</td>\n      <td>10.6</td>\n      <td>C</td>\n    </tr>\n    <tr>\n      <th>580</th>\n      <td>INVIERNO</td>\n      <td>31</td>\n      <td>8/3/2008</td>\n      <td>DOMINGO</td>\n      <td>Domingo</td>\n      <td>293.0</td>\n      <td>16145.0</td>\n      <td>20,6</td>\n      <td>7.9</td>\n      <td>C</td>\n    </tr>\n    <tr>\n      <th>4736</th>\n      <td>VERANO</td>\n      <td>51</td>\n      <td>12/20/2019</td>\n      <td>HÁBIL</td>\n      <td>Viernes</td>\n      <td>411.8</td>\n      <td>18463.0</td>\n      <td>9,41</td>\n      <td>22.9</td>\n      <td>N</td>\n    </tr>\n    <tr>\n      <th>5620</th>\n      <td>INVIERNO</td>\n      <td>20</td>\n      <td>5/22/2022</td>\n      <td>DOMINGO</td>\n      <td>Domingo</td>\n      <td>360.4</td>\n      <td>18530.0</td>\n      <td>21,2</td>\n      <td>14.7</td>\n      <td>SN</td>\n    </tr>\n    <tr>\n      <th>5622</th>\n      <td>INVIERNO</td>\n      <td>21</td>\n      <td>5/24/2022</td>\n      <td>HÁBIL</td>\n      <td>Martes</td>\n      <td>405.0</td>\n      <td>19836.0</td>\n      <td>21,1</td>\n      <td>17.6</td>\n      <td>N</td>\n    </tr>\n    <tr>\n      <th>5844</th>\n      <td>VERANO</td>\n      <td>52</td>\n      <td>1/1/2023</td>\n      <td>FERIADO</td>\n      <td>Domingo</td>\n      <td>358.0</td>\n      <td>16521.0</td>\n      <td>22.8</td>\n      <td>24.5</td>\n      <td>N</td>\n    </tr>\n    <tr>\n      <th>5848</th>\n      <td>VERANO</td>\n      <td>1</td>\n      <td>1/5/2023</td>\n      <td>HÁBIL</td>\n      <td>Jueves</td>\n      <td>460.8</td>\n      <td>23436.0</td>\n      <td>15.4</td>\n      <td>26.3</td>\n      <td>C</td>\n    </tr>\n    <tr>\n      <th>5852</th>\n      <td>VERANO</td>\n      <td>2</td>\n      <td>1/9/2023</td>\n      <td>HÁBIL</td>\n      <td>Lunes</td>\n      <td>504.3</td>\n      <td>26099.0</td>\n      <td>15.3</td>\n      <td>27.7</td>\n      <td>C</td>\n    </tr>\n    <tr>\n      <th>5859</th>\n      <td>VERANO</td>\n      <td>3</td>\n      <td>1/16/2023</td>\n      <td>HÁBIL</td>\n      <td>Lunes</td>\n      <td>512.9</td>\n      <td>26609.0</td>\n      <td>15.5</td>\n      <td>30.7</td>\n      <td>C</td>\n    </tr>\n    <tr>\n      <th>5891</th>\n      <td>VERANO</td>\n      <td>7</td>\n      <td>2/17/2023</td>\n      <td>HÁBIL</td>\n      <td>Viernes</td>\n      <td>360.3</td>\n      <td>17356.0</td>\n      <td>21.1</td>\n      <td>12.5</td>\n      <td>N</td>\n    </tr>\n    <tr>\n      <th>5918</th>\n      <td>VERANO</td>\n      <td>11</td>\n      <td>3/16/2023</td>\n      <td>HÁBIL</td>\n      <td>Jueves</td>\n      <td>538.5</td>\n      <td>26608.0</td>\n      <td>15</td>\n      <td>27.9</td>\n      <td>N</td>\n    </tr>\n    <tr>\n      <th>5993</th>\n      <td>VERANO</td>\n      <td>22</td>\n      <td>5/30/2023</td>\n      <td>HÁBIL</td>\n      <td>Martes</td>\n      <td>432.9</td>\n      <td>21451.0</td>\n      <td>21</td>\n      <td>12.9</td>\n      <td>N</td>\n    </tr>\n    <tr>\n      <th>6001</th>\n      <td>VERANO</td>\n      <td>23</td>\n      <td>6/7/2023</td>\n      <td>HÁBIL</td>\n      <td>Miércoles</td>\n      <td>399.4</td>\n      <td>19646.0</td>\n      <td>21</td>\n      <td>18.4</td>\n      <td>N</td>\n    </tr>\n  </tbody>\n</table>\n</div>"
     },
     "execution_count": 24,
     "metadata": {},
     "output_type": "execute_result"
    }
   ],
   "source": [
    "df_maximos[df_maximos['Hora Potencia Pico'].str.len() < 5]"
   ],
   "metadata": {
    "collapsed": false,
    "ExecuteTime": {
     "end_time": "2023-08-13T01:52:14.036897900Z",
     "start_time": "2023-08-13T01:52:14.003567500Z"
    }
   }
  },
  {
   "cell_type": "code",
   "execution_count": 26,
   "outputs": [
    {
     "name": "stderr",
     "output_type": "stream",
     "text": [
      "C:\\Users\\javic\\AppData\\Local\\Temp\\ipykernel_14668\\382552221.py:9: SettingWithCopyWarning: \n",
      "A value is trying to be set on a copy of a slice from a DataFrame.\n",
      "Try using .loc[row_indexer,col_indexer] = value instead\n",
      "\n",
      "See the caveats in the documentation: https://pandas.pydata.org/pandas-docs/stable/user_guide/indexing.html#returning-a-view-versus-a-copy\n",
      "  df_maximos['hora_formateada'] = df_maximos['Hora Potencia Pico'].apply(format_time)\n"
     ]
    }
   ],
   "source": [
    "def format_time(value):\n",
    "    try:\n",
    "        value = value.replace(',', '.')\n",
    "        time_obj = datetime.strptime(value, '%H.%M')\n",
    "        return time_obj.strftime('%H:%M')\n",
    "    except:\n",
    "        return None\n",
    "\n",
    "df_maximos['hora_formateada'] = df_maximos['Hora Potencia Pico'].apply(format_time)"
   ],
   "metadata": {
    "collapsed": false,
    "ExecuteTime": {
     "end_time": "2023-08-13T01:52:59.469922100Z",
     "start_time": "2023-08-13T01:52:59.362049400Z"
    }
   }
  },
  {
   "cell_type": "code",
   "execution_count": 28,
   "outputs": [
    {
     "name": "stderr",
     "output_type": "stream",
     "text": [
      "C:\\Users\\javic\\AppData\\Local\\Temp\\ipykernel_14668\\2192306242.py:10: SettingWithCopyWarning: \n",
      "A value is trying to be set on a copy of a slice from a DataFrame.\n",
      "Try using .loc[row_indexer,col_indexer] = value instead\n",
      "\n",
      "See the caveats in the documentation: https://pandas.pydata.org/pandas-docs/stable/user_guide/indexing.html#returning-a-view-versus-a-copy\n",
      "  df_maximos['fecha_completa'] = df_maximos.apply(combine_date_time, axis=1)\n"
     ]
    }
   ],
   "source": [
    "def combine_date_time(row):\n",
    "    try:\n",
    "        fecha_obj = datetime.strptime(row['FECHA'], '%d/%m/%Y')\n",
    "        hora_obj = datetime.strptime(row['hora_formateada'], '%H:%M')\n",
    "        combined_datetime = fecha_obj.replace(hour=hora_obj.hour, minute=hora_obj.minute)\n",
    "        return combined_datetime\n",
    "    except:\n",
    "        return None\n",
    "\n",
    "df_maximos['fecha_completa'] = df_maximos.apply(combine_date_time, axis=1)"
   ],
   "metadata": {
    "collapsed": false,
    "ExecuteTime": {
     "end_time": "2023-08-13T01:55:24.369436700Z",
     "start_time": "2023-08-13T01:55:24.218319900Z"
    }
   }
  },
  {
   "cell_type": "code",
   "execution_count": 30,
   "outputs": [
    {
     "name": "stdout",
     "output_type": "stream",
     "text": [
      "<class 'pandas.core.frame.DataFrame'>\n",
      "RangeIndex: 6006 entries, 0 to 6005\n",
      "Data columns (total 12 columns):\n",
      " #   Column                                         Non-Null Count  Dtype         \n",
      "---  ------                                         --------------  -----         \n",
      " 0   VERANO / INVIERNO                              6006 non-null   object        \n",
      " 1   SEMANA                                         6006 non-null   int64         \n",
      " 2   FECHA                                          6006 non-null   object        \n",
      " 3   TIPO DIA                                       6006 non-null   object        \n",
      " 4   DIA                                            6006 non-null   object        \n",
      " 5   Energía SADI (GWh)                             6006 non-null   float64       \n",
      " 6   Potencia Pico SADI (MW)                        6006 non-null   float64       \n",
      " 7   Hora Potencia Pico                             6006 non-null   object        \n",
      " 8   Temperatura Media Diaria GBA  (°C)             6006 non-null   float64       \n",
      " 9   Estado del Tiempo [Claro/Nublado/Seminublado]  6006 non-null   object        \n",
      " 10  hora_formateada                                6002 non-null   object        \n",
      " 11  fecha_completa                                 2373 non-null   datetime64[ns]\n",
      "dtypes: datetime64[ns](1), float64(3), int64(1), object(7)\n",
      "memory usage: 563.2+ KB\n"
     ]
    }
   ],
   "source": [
    "df_maximos.info()"
   ],
   "metadata": {
    "collapsed": false,
    "ExecuteTime": {
     "end_time": "2023-08-13T01:55:46.415538500Z",
     "start_time": "2023-08-13T01:55:46.323087Z"
    }
   }
  },
  {
   "cell_type": "code",
   "execution_count": 33,
   "outputs": [
    {
     "data": {
      "text/plain": "     VERANO / INVIERNO  SEMANA TIPO DIA        DIA  Energía SADI (GWh)  \\\n0               VERANO       1  FERIADO      Lunes               277.6   \n1               VERANO       1    HÁBIL     Martes               325.4   \n2               VERANO       1    HÁBIL  Miércoles               325.5   \n3               VERANO       1    HÁBIL     Jueves               334.0   \n4               VERANO       1    HÁBIL    Viernes               320.3   \n...                ...     ...      ...        ...                 ...   \n6001            VERANO      23    HÁBIL  Miércoles               399.4   \n6002            VERANO      23    HÁBIL     Jueves               391.9   \n6003            VERANO      23    HÁBIL    Viernes               391.8   \n6004            VERANO      23   SÁBADO     Sábado               405.3   \n6005            VERANO      23  DOMINGO    Domingo               404.1   \n\n      Potencia Pico SADI (MW)  Temperatura Media Diaria GBA  (°C)  \\\n0                     14157.0                                29.2   \n1                     15801.0                                26.0   \n2                     16136.0                                25.0   \n3                     16782.0                                25.0   \n4                     15321.0                                22.6   \n...                       ...                                 ...   \n6001                  19646.0                                18.4   \n6002                  19004.0                                21.8   \n6003                  19758.0                                18.0   \n6004                  20424.0                                10.6   \n6005                  21502.0                                 8.3   \n\n     Estado del Tiempo [Claro/Nublado/Seminublado]      fecha_completa  \n0                                                C 2007-01-01 21:05:00  \n1                                                N 2007-02-01 21:02:00  \n2                                                N 2007-03-01 21:11:00  \n3                                                N 2007-04-01 21:16:00  \n4                                                C 2007-05-01 21:23:00  \n...                                            ...                 ...  \n6001                                             N                 NaT  \n6002                                             N 2023-08-06 20:07:00  \n6003                                             N 2023-09-06 20:49:00  \n6004                                             N 2023-10-06 20:20:00  \n6005                                             C 2023-11-06 21:03:00  \n\n[6006 rows x 9 columns]",
      "text/html": "<div>\n<style scoped>\n    .dataframe tbody tr th:only-of-type {\n        vertical-align: middle;\n    }\n\n    .dataframe tbody tr th {\n        vertical-align: top;\n    }\n\n    .dataframe thead th {\n        text-align: right;\n    }\n</style>\n<table border=\"1\" class=\"dataframe\">\n  <thead>\n    <tr style=\"text-align: right;\">\n      <th></th>\n      <th>VERANO / INVIERNO</th>\n      <th>SEMANA</th>\n      <th>TIPO DIA</th>\n      <th>DIA</th>\n      <th>Energía SADI (GWh)</th>\n      <th>Potencia Pico SADI (MW)</th>\n      <th>Temperatura Media Diaria GBA  (°C)</th>\n      <th>Estado del Tiempo [Claro/Nublado/Seminublado]</th>\n      <th>fecha_completa</th>\n    </tr>\n  </thead>\n  <tbody>\n    <tr>\n      <th>0</th>\n      <td>VERANO</td>\n      <td>1</td>\n      <td>FERIADO</td>\n      <td>Lunes</td>\n      <td>277.6</td>\n      <td>14157.0</td>\n      <td>29.2</td>\n      <td>C</td>\n      <td>2007-01-01 21:05:00</td>\n    </tr>\n    <tr>\n      <th>1</th>\n      <td>VERANO</td>\n      <td>1</td>\n      <td>HÁBIL</td>\n      <td>Martes</td>\n      <td>325.4</td>\n      <td>15801.0</td>\n      <td>26.0</td>\n      <td>N</td>\n      <td>2007-02-01 21:02:00</td>\n    </tr>\n    <tr>\n      <th>2</th>\n      <td>VERANO</td>\n      <td>1</td>\n      <td>HÁBIL</td>\n      <td>Miércoles</td>\n      <td>325.5</td>\n      <td>16136.0</td>\n      <td>25.0</td>\n      <td>N</td>\n      <td>2007-03-01 21:11:00</td>\n    </tr>\n    <tr>\n      <th>3</th>\n      <td>VERANO</td>\n      <td>1</td>\n      <td>HÁBIL</td>\n      <td>Jueves</td>\n      <td>334.0</td>\n      <td>16782.0</td>\n      <td>25.0</td>\n      <td>N</td>\n      <td>2007-04-01 21:16:00</td>\n    </tr>\n    <tr>\n      <th>4</th>\n      <td>VERANO</td>\n      <td>1</td>\n      <td>HÁBIL</td>\n      <td>Viernes</td>\n      <td>320.3</td>\n      <td>15321.0</td>\n      <td>22.6</td>\n      <td>C</td>\n      <td>2007-05-01 21:23:00</td>\n    </tr>\n    <tr>\n      <th>...</th>\n      <td>...</td>\n      <td>...</td>\n      <td>...</td>\n      <td>...</td>\n      <td>...</td>\n      <td>...</td>\n      <td>...</td>\n      <td>...</td>\n      <td>...</td>\n    </tr>\n    <tr>\n      <th>6001</th>\n      <td>VERANO</td>\n      <td>23</td>\n      <td>HÁBIL</td>\n      <td>Miércoles</td>\n      <td>399.4</td>\n      <td>19646.0</td>\n      <td>18.4</td>\n      <td>N</td>\n      <td>NaT</td>\n    </tr>\n    <tr>\n      <th>6002</th>\n      <td>VERANO</td>\n      <td>23</td>\n      <td>HÁBIL</td>\n      <td>Jueves</td>\n      <td>391.9</td>\n      <td>19004.0</td>\n      <td>21.8</td>\n      <td>N</td>\n      <td>2023-08-06 20:07:00</td>\n    </tr>\n    <tr>\n      <th>6003</th>\n      <td>VERANO</td>\n      <td>23</td>\n      <td>HÁBIL</td>\n      <td>Viernes</td>\n      <td>391.8</td>\n      <td>19758.0</td>\n      <td>18.0</td>\n      <td>N</td>\n      <td>2023-09-06 20:49:00</td>\n    </tr>\n    <tr>\n      <th>6004</th>\n      <td>VERANO</td>\n      <td>23</td>\n      <td>SÁBADO</td>\n      <td>Sábado</td>\n      <td>405.3</td>\n      <td>20424.0</td>\n      <td>10.6</td>\n      <td>N</td>\n      <td>2023-10-06 20:20:00</td>\n    </tr>\n    <tr>\n      <th>6005</th>\n      <td>VERANO</td>\n      <td>23</td>\n      <td>DOMINGO</td>\n      <td>Domingo</td>\n      <td>404.1</td>\n      <td>21502.0</td>\n      <td>8.3</td>\n      <td>C</td>\n      <td>2023-11-06 21:03:00</td>\n    </tr>\n  </tbody>\n</table>\n<p>6006 rows × 9 columns</p>\n</div>"
     },
     "execution_count": 33,
     "metadata": {},
     "output_type": "execute_result"
    }
   ],
   "source": [
    "df_maximos = df_maximos[['VERANO / INVIERNO', 'SEMANA', 'TIPO DIA', 'DIA', 'Energía SADI (GWh)', 'Potencia Pico SADI (MW)', 'Temperatura Media Diaria GBA  (°C)', 'Estado del Tiempo [Claro/Nublado/Seminublado]', 'fecha_completa']]\n",
    "df_maximos"
   ],
   "metadata": {
    "collapsed": false,
    "ExecuteTime": {
     "end_time": "2023-08-13T01:58:48.046415Z",
     "start_time": "2023-08-13T01:58:48.040454300Z"
    }
   }
  },
  {
   "cell_type": "code",
   "execution_count": 39,
   "outputs": [
    {
     "data": {
      "text/plain": "     temporada  semana tipo_dia        dia  energia_sadi  potencia_pico_sadi  \\\n0       VERANO       1  FERIADO      Lunes         277.6             14157.0   \n1       VERANO       1    HÁBIL     Martes         325.4             15801.0   \n2       VERANO       1    HÁBIL  Miércoles         325.5             16136.0   \n3       VERANO       1    HÁBIL     Jueves         334.0             16782.0   \n4       VERANO       1    HÁBIL    Viernes         320.3             15321.0   \n...        ...     ...      ...        ...           ...                 ...   \n6001    VERANO      23    HÁBIL  Miércoles         399.4             19646.0   \n6002    VERANO      23    HÁBIL     Jueves         391.9             19004.0   \n6003    VERANO      23    HÁBIL    Viernes         391.8             19758.0   \n6004    VERANO      23   SÁBADO     Sábado         405.3             20424.0   \n6005    VERANO      23  DOMINGO    Domingo         404.1             21502.0   \n\n      temp_media_diaria_gba estado_tiempo fecha_potencia_pico  \n0                      29.2             C 2007-01-01 21:05:00  \n1                      26.0             N 2007-02-01 21:02:00  \n2                      25.0             N 2007-03-01 21:11:00  \n3                      25.0             N 2007-04-01 21:16:00  \n4                      22.6             C 2007-05-01 21:23:00  \n...                     ...           ...                 ...  \n6001                   18.4             N                 NaT  \n6002                   21.8             N 2023-08-06 20:07:00  \n6003                   18.0             N 2023-09-06 20:49:00  \n6004                   10.6             N 2023-10-06 20:20:00  \n6005                    8.3             C 2023-11-06 21:03:00  \n\n[6006 rows x 9 columns]",
      "text/html": "<div>\n<style scoped>\n    .dataframe tbody tr th:only-of-type {\n        vertical-align: middle;\n    }\n\n    .dataframe tbody tr th {\n        vertical-align: top;\n    }\n\n    .dataframe thead th {\n        text-align: right;\n    }\n</style>\n<table border=\"1\" class=\"dataframe\">\n  <thead>\n    <tr style=\"text-align: right;\">\n      <th></th>\n      <th>temporada</th>\n      <th>semana</th>\n      <th>tipo_dia</th>\n      <th>dia</th>\n      <th>energia_sadi</th>\n      <th>potencia_pico_sadi</th>\n      <th>temp_media_diaria_gba</th>\n      <th>estado_tiempo</th>\n      <th>fecha_potencia_pico</th>\n    </tr>\n  </thead>\n  <tbody>\n    <tr>\n      <th>0</th>\n      <td>VERANO</td>\n      <td>1</td>\n      <td>FERIADO</td>\n      <td>Lunes</td>\n      <td>277.6</td>\n      <td>14157.0</td>\n      <td>29.2</td>\n      <td>C</td>\n      <td>2007-01-01 21:05:00</td>\n    </tr>\n    <tr>\n      <th>1</th>\n      <td>VERANO</td>\n      <td>1</td>\n      <td>HÁBIL</td>\n      <td>Martes</td>\n      <td>325.4</td>\n      <td>15801.0</td>\n      <td>26.0</td>\n      <td>N</td>\n      <td>2007-02-01 21:02:00</td>\n    </tr>\n    <tr>\n      <th>2</th>\n      <td>VERANO</td>\n      <td>1</td>\n      <td>HÁBIL</td>\n      <td>Miércoles</td>\n      <td>325.5</td>\n      <td>16136.0</td>\n      <td>25.0</td>\n      <td>N</td>\n      <td>2007-03-01 21:11:00</td>\n    </tr>\n    <tr>\n      <th>3</th>\n      <td>VERANO</td>\n      <td>1</td>\n      <td>HÁBIL</td>\n      <td>Jueves</td>\n      <td>334.0</td>\n      <td>16782.0</td>\n      <td>25.0</td>\n      <td>N</td>\n      <td>2007-04-01 21:16:00</td>\n    </tr>\n    <tr>\n      <th>4</th>\n      <td>VERANO</td>\n      <td>1</td>\n      <td>HÁBIL</td>\n      <td>Viernes</td>\n      <td>320.3</td>\n      <td>15321.0</td>\n      <td>22.6</td>\n      <td>C</td>\n      <td>2007-05-01 21:23:00</td>\n    </tr>\n    <tr>\n      <th>...</th>\n      <td>...</td>\n      <td>...</td>\n      <td>...</td>\n      <td>...</td>\n      <td>...</td>\n      <td>...</td>\n      <td>...</td>\n      <td>...</td>\n      <td>...</td>\n    </tr>\n    <tr>\n      <th>6001</th>\n      <td>VERANO</td>\n      <td>23</td>\n      <td>HÁBIL</td>\n      <td>Miércoles</td>\n      <td>399.4</td>\n      <td>19646.0</td>\n      <td>18.4</td>\n      <td>N</td>\n      <td>NaT</td>\n    </tr>\n    <tr>\n      <th>6002</th>\n      <td>VERANO</td>\n      <td>23</td>\n      <td>HÁBIL</td>\n      <td>Jueves</td>\n      <td>391.9</td>\n      <td>19004.0</td>\n      <td>21.8</td>\n      <td>N</td>\n      <td>2023-08-06 20:07:00</td>\n    </tr>\n    <tr>\n      <th>6003</th>\n      <td>VERANO</td>\n      <td>23</td>\n      <td>HÁBIL</td>\n      <td>Viernes</td>\n      <td>391.8</td>\n      <td>19758.0</td>\n      <td>18.0</td>\n      <td>N</td>\n      <td>2023-09-06 20:49:00</td>\n    </tr>\n    <tr>\n      <th>6004</th>\n      <td>VERANO</td>\n      <td>23</td>\n      <td>SÁBADO</td>\n      <td>Sábado</td>\n      <td>405.3</td>\n      <td>20424.0</td>\n      <td>10.6</td>\n      <td>N</td>\n      <td>2023-10-06 20:20:00</td>\n    </tr>\n    <tr>\n      <th>6005</th>\n      <td>VERANO</td>\n      <td>23</td>\n      <td>DOMINGO</td>\n      <td>Domingo</td>\n      <td>404.1</td>\n      <td>21502.0</td>\n      <td>8.3</td>\n      <td>C</td>\n      <td>2023-11-06 21:03:00</td>\n    </tr>\n  </tbody>\n</table>\n<p>6006 rows × 9 columns</p>\n</div>"
     },
     "execution_count": 39,
     "metadata": {},
     "output_type": "execute_result"
    }
   ],
   "source": [
    "df_maximos = df_maximos.rename(columns={\n",
    "    'VERANO / INVIERNO': 'temporada',\n",
    "    'TIPO DIA': 'tipo_dia',\n",
    "    'Energía SADI (GWh)': 'energia_sadi',\n",
    "    'Potencia Pico SADI (MW)': 'potencia_pico_sadi',\n",
    "    'Temperatura Media Diaria GBA  (°C)': 'temp_media_diaria_gba',\n",
    "    'Estado del Tiempo [Claro/Nublado/Seminublado]': 'estado_tiempo',\n",
    "    'fecha_completa': 'fecha_potencia_pico',\n",
    "    'SEMANA': 'semana',\n",
    "    'DIA': 'dia'\n",
    "})\n",
    "df_maximos"
   ],
   "metadata": {
    "collapsed": false,
    "ExecuteTime": {
     "end_time": "2023-08-13T02:03:38.750128200Z",
     "start_time": "2023-08-13T02:03:38.721549300Z"
    }
   }
  }
 ],
 "metadata": {
  "kernelspec": {
   "display_name": "Python 3",
   "language": "python",
   "name": "python3"
  },
  "language_info": {
   "codemirror_mode": {
    "name": "ipython",
    "version": 2
   },
   "file_extension": ".py",
   "mimetype": "text/x-python",
   "name": "python",
   "nbconvert_exporter": "python",
   "pygments_lexer": "ipython2",
   "version": "2.7.6"
  }
 },
 "nbformat": 4,
 "nbformat_minor": 0
}
