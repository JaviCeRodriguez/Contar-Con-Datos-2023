{
 "cells": [
  {
   "cell_type": "code",
   "execution_count": 1,
   "metadata": {
    "collapsed": true,
    "ExecuteTime": {
     "end_time": "2023-08-12T23:25:37.915478900Z",
     "start_time": "2023-08-12T23:25:36.542534100Z"
    }
   },
   "outputs": [],
   "source": [
    "import pandas as pd"
   ]
  },
  {
   "cell_type": "code",
   "execution_count": 3,
   "outputs": [
    {
     "data": {
      "text/plain": "    AÑO     MES  N° MES VERANO / INVIERNO  SEMANA     FECHA TIPO DIA  \\\n0  2007  ene-07       1            VERANO       1  1/1/2007  FERIADO   \n1  2007  ene-07       1            VERANO       1  1/2/2007    HÁBIL   \n2  2007  ene-07       1            VERANO       1  1/3/2007    HÁBIL   \n3  2007  ene-07       1            VERANO       1  1/4/2007    HÁBIL   \n4  2007  ene-07       1            VERANO       1  1/5/2007    HÁBIL   \n\n         DIA  N° DIA Energía SADI (GWh) Potencia Pico SADI (MW)  \\\n0      Lunes       1              277,6                 14157,0   \n1     Martes       2              325,4                 15801,0   \n2  Miércoles       3              325,5                 16136,0   \n3     Jueves       4              334,0                 16782,0   \n4    Viernes       5              320,3                 15321,0   \n\n  Hora Potencia Pico Temperatura Media Diaria GBA  (°C)  \\\n0               21,5                               29,2   \n1              21,02                               26,0   \n2              21,11                               25,0   \n3              21,16                               25,0   \n4              21,23                               22,6   \n\n  Estado del Tiempo [Claro/Nublado/Seminublado]  \n0                                             C  \n1                                             N  \n2                                             N  \n3                                             N  \n4                                             C  ",
      "text/html": "<div>\n<style scoped>\n    .dataframe tbody tr th:only-of-type {\n        vertical-align: middle;\n    }\n\n    .dataframe tbody tr th {\n        vertical-align: top;\n    }\n\n    .dataframe thead th {\n        text-align: right;\n    }\n</style>\n<table border=\"1\" class=\"dataframe\">\n  <thead>\n    <tr style=\"text-align: right;\">\n      <th></th>\n      <th>AÑO</th>\n      <th>MES</th>\n      <th>N° MES</th>\n      <th>VERANO / INVIERNO</th>\n      <th>SEMANA</th>\n      <th>FECHA</th>\n      <th>TIPO DIA</th>\n      <th>DIA</th>\n      <th>N° DIA</th>\n      <th>Energía SADI (GWh)</th>\n      <th>Potencia Pico SADI (MW)</th>\n      <th>Hora Potencia Pico</th>\n      <th>Temperatura Media Diaria GBA  (°C)</th>\n      <th>Estado del Tiempo [Claro/Nublado/Seminublado]</th>\n    </tr>\n  </thead>\n  <tbody>\n    <tr>\n      <th>0</th>\n      <td>2007</td>\n      <td>ene-07</td>\n      <td>1</td>\n      <td>VERANO</td>\n      <td>1</td>\n      <td>1/1/2007</td>\n      <td>FERIADO</td>\n      <td>Lunes</td>\n      <td>1</td>\n      <td>277,6</td>\n      <td>14157,0</td>\n      <td>21,5</td>\n      <td>29,2</td>\n      <td>C</td>\n    </tr>\n    <tr>\n      <th>1</th>\n      <td>2007</td>\n      <td>ene-07</td>\n      <td>1</td>\n      <td>VERANO</td>\n      <td>1</td>\n      <td>1/2/2007</td>\n      <td>HÁBIL</td>\n      <td>Martes</td>\n      <td>2</td>\n      <td>325,4</td>\n      <td>15801,0</td>\n      <td>21,02</td>\n      <td>26,0</td>\n      <td>N</td>\n    </tr>\n    <tr>\n      <th>2</th>\n      <td>2007</td>\n      <td>ene-07</td>\n      <td>1</td>\n      <td>VERANO</td>\n      <td>1</td>\n      <td>1/3/2007</td>\n      <td>HÁBIL</td>\n      <td>Miércoles</td>\n      <td>3</td>\n      <td>325,5</td>\n      <td>16136,0</td>\n      <td>21,11</td>\n      <td>25,0</td>\n      <td>N</td>\n    </tr>\n    <tr>\n      <th>3</th>\n      <td>2007</td>\n      <td>ene-07</td>\n      <td>1</td>\n      <td>VERANO</td>\n      <td>1</td>\n      <td>1/4/2007</td>\n      <td>HÁBIL</td>\n      <td>Jueves</td>\n      <td>4</td>\n      <td>334,0</td>\n      <td>16782,0</td>\n      <td>21,16</td>\n      <td>25,0</td>\n      <td>N</td>\n    </tr>\n    <tr>\n      <th>4</th>\n      <td>2007</td>\n      <td>ene-07</td>\n      <td>1</td>\n      <td>VERANO</td>\n      <td>1</td>\n      <td>1/5/2007</td>\n      <td>HÁBIL</td>\n      <td>Viernes</td>\n      <td>5</td>\n      <td>320,3</td>\n      <td>15321,0</td>\n      <td>21,23</td>\n      <td>22,6</td>\n      <td>C</td>\n    </tr>\n  </tbody>\n</table>\n</div>"
     },
     "execution_count": 3,
     "metadata": {},
     "output_type": "execute_result"
    }
   ],
   "source": [
    "df = pd.read_csv('./data/cammesa/maximos_historicos.csv')\n",
    "df.head()"
   ],
   "metadata": {
    "collapsed": false,
    "ExecuteTime": {
     "end_time": "2023-08-12T23:26:39.582445900Z",
     "start_time": "2023-08-12T23:26:39.514971400Z"
    }
   }
  },
  {
   "cell_type": "code",
   "execution_count": 5,
   "outputs": [
    {
     "data": {
      "text/plain": "     VERANO / INVIERNO  SEMANA      FECHA TIPO DIA        DIA  \\\n0               VERANO       1   1/1/2007  FERIADO      Lunes   \n1               VERANO       1   1/2/2007    HÁBIL     Martes   \n2               VERANO       1   1/3/2007    HÁBIL  Miércoles   \n3               VERANO       1   1/4/2007    HÁBIL     Jueves   \n4               VERANO       1   1/5/2007    HÁBIL    Viernes   \n...                ...     ...        ...      ...        ...   \n6001            VERANO      23   6/7/2023    HÁBIL  Miércoles   \n6002            VERANO      23   6/8/2023    HÁBIL     Jueves   \n6003            VERANO      23   6/9/2023    HÁBIL    Viernes   \n6004            VERANO      23  6/10/2023   SÁBADO     Sábado   \n6005            VERANO      23  6/11/2023  DOMINGO    Domingo   \n\n     Energía SADI (GWh) Potencia Pico SADI (MW) Hora Potencia Pico  \\\n0                 277,6                 14157,0               21,5   \n1                 325,4                 15801,0              21,02   \n2                 325,5                 16136,0              21,11   \n3                 334,0                 16782,0              21,16   \n4                 320,3                 15321,0              21,23   \n...                 ...                     ...                ...   \n6001              399,4                 19646,0                 21   \n6002              391,9                 19004,0              20,07   \n6003              391,8                 19758,0              20.49   \n6004              405,3                 20424,0              20.20   \n6005              404,1                 21502,0              21,03   \n\n     Temperatura Media Diaria GBA  (°C)  \\\n0                                  29,2   \n1                                  26,0   \n2                                  25,0   \n3                                  25,0   \n4                                  22,6   \n...                                 ...   \n6001                               18,4   \n6002                               21,8   \n6003                               18,0   \n6004                               10,6   \n6005                                8,3   \n\n     Estado del Tiempo [Claro/Nublado/Seminublado]  \n0                                                C  \n1                                                N  \n2                                                N  \n3                                                N  \n4                                                C  \n...                                            ...  \n6001                                             N  \n6002                                             N  \n6003                                             N  \n6004                                             N  \n6005                                             C  \n\n[6006 rows x 10 columns]",
      "text/html": "<div>\n<style scoped>\n    .dataframe tbody tr th:only-of-type {\n        vertical-align: middle;\n    }\n\n    .dataframe tbody tr th {\n        vertical-align: top;\n    }\n\n    .dataframe thead th {\n        text-align: right;\n    }\n</style>\n<table border=\"1\" class=\"dataframe\">\n  <thead>\n    <tr style=\"text-align: right;\">\n      <th></th>\n      <th>VERANO / INVIERNO</th>\n      <th>SEMANA</th>\n      <th>FECHA</th>\n      <th>TIPO DIA</th>\n      <th>DIA</th>\n      <th>Energía SADI (GWh)</th>\n      <th>Potencia Pico SADI (MW)</th>\n      <th>Hora Potencia Pico</th>\n      <th>Temperatura Media Diaria GBA  (°C)</th>\n      <th>Estado del Tiempo [Claro/Nublado/Seminublado]</th>\n    </tr>\n  </thead>\n  <tbody>\n    <tr>\n      <th>0</th>\n      <td>VERANO</td>\n      <td>1</td>\n      <td>1/1/2007</td>\n      <td>FERIADO</td>\n      <td>Lunes</td>\n      <td>277,6</td>\n      <td>14157,0</td>\n      <td>21,5</td>\n      <td>29,2</td>\n      <td>C</td>\n    </tr>\n    <tr>\n      <th>1</th>\n      <td>VERANO</td>\n      <td>1</td>\n      <td>1/2/2007</td>\n      <td>HÁBIL</td>\n      <td>Martes</td>\n      <td>325,4</td>\n      <td>15801,0</td>\n      <td>21,02</td>\n      <td>26,0</td>\n      <td>N</td>\n    </tr>\n    <tr>\n      <th>2</th>\n      <td>VERANO</td>\n      <td>1</td>\n      <td>1/3/2007</td>\n      <td>HÁBIL</td>\n      <td>Miércoles</td>\n      <td>325,5</td>\n      <td>16136,0</td>\n      <td>21,11</td>\n      <td>25,0</td>\n      <td>N</td>\n    </tr>\n    <tr>\n      <th>3</th>\n      <td>VERANO</td>\n      <td>1</td>\n      <td>1/4/2007</td>\n      <td>HÁBIL</td>\n      <td>Jueves</td>\n      <td>334,0</td>\n      <td>16782,0</td>\n      <td>21,16</td>\n      <td>25,0</td>\n      <td>N</td>\n    </tr>\n    <tr>\n      <th>4</th>\n      <td>VERANO</td>\n      <td>1</td>\n      <td>1/5/2007</td>\n      <td>HÁBIL</td>\n      <td>Viernes</td>\n      <td>320,3</td>\n      <td>15321,0</td>\n      <td>21,23</td>\n      <td>22,6</td>\n      <td>C</td>\n    </tr>\n    <tr>\n      <th>...</th>\n      <td>...</td>\n      <td>...</td>\n      <td>...</td>\n      <td>...</td>\n      <td>...</td>\n      <td>...</td>\n      <td>...</td>\n      <td>...</td>\n      <td>...</td>\n      <td>...</td>\n    </tr>\n    <tr>\n      <th>6001</th>\n      <td>VERANO</td>\n      <td>23</td>\n      <td>6/7/2023</td>\n      <td>HÁBIL</td>\n      <td>Miércoles</td>\n      <td>399,4</td>\n      <td>19646,0</td>\n      <td>21</td>\n      <td>18,4</td>\n      <td>N</td>\n    </tr>\n    <tr>\n      <th>6002</th>\n      <td>VERANO</td>\n      <td>23</td>\n      <td>6/8/2023</td>\n      <td>HÁBIL</td>\n      <td>Jueves</td>\n      <td>391,9</td>\n      <td>19004,0</td>\n      <td>20,07</td>\n      <td>21,8</td>\n      <td>N</td>\n    </tr>\n    <tr>\n      <th>6003</th>\n      <td>VERANO</td>\n      <td>23</td>\n      <td>6/9/2023</td>\n      <td>HÁBIL</td>\n      <td>Viernes</td>\n      <td>391,8</td>\n      <td>19758,0</td>\n      <td>20.49</td>\n      <td>18,0</td>\n      <td>N</td>\n    </tr>\n    <tr>\n      <th>6004</th>\n      <td>VERANO</td>\n      <td>23</td>\n      <td>6/10/2023</td>\n      <td>SÁBADO</td>\n      <td>Sábado</td>\n      <td>405,3</td>\n      <td>20424,0</td>\n      <td>20.20</td>\n      <td>10,6</td>\n      <td>N</td>\n    </tr>\n    <tr>\n      <th>6005</th>\n      <td>VERANO</td>\n      <td>23</td>\n      <td>6/11/2023</td>\n      <td>DOMINGO</td>\n      <td>Domingo</td>\n      <td>404,1</td>\n      <td>21502,0</td>\n      <td>21,03</td>\n      <td>8,3</td>\n      <td>C</td>\n    </tr>\n  </tbody>\n</table>\n<p>6006 rows × 10 columns</p>\n</div>"
     },
     "execution_count": 5,
     "metadata": {},
     "output_type": "execute_result"
    }
   ],
   "source": [
    "df_maximos = df[['VERANO / INVIERNO', 'SEMANA', 'FECHA', 'TIPO DIA', 'DIA', 'Energía SADI (GWh)', 'Potencia Pico SADI (MW)', 'Hora Potencia Pico', 'Temperatura Media Diaria GBA  (°C)', 'Estado del Tiempo [Claro/Nublado/Seminublado]']]\n",
    "df_maximos"
   ],
   "metadata": {
    "collapsed": false,
    "ExecuteTime": {
     "end_time": "2023-08-12T23:30:37.319259200Z",
     "start_time": "2023-08-12T23:30:37.285142200Z"
    }
   }
  },
  {
   "cell_type": "code",
   "execution_count": 6,
   "outputs": [
    {
     "name": "stdout",
     "output_type": "stream",
     "text": [
      "<class 'pandas.core.frame.DataFrame'>\n",
      "RangeIndex: 6006 entries, 0 to 6005\n",
      "Data columns (total 10 columns):\n",
      " #   Column                                         Non-Null Count  Dtype \n",
      "---  ------                                         --------------  ----- \n",
      " 0   VERANO / INVIERNO                              6006 non-null   object\n",
      " 1   SEMANA                                         6006 non-null   int64 \n",
      " 2   FECHA                                          6006 non-null   object\n",
      " 3   TIPO DIA                                       6006 non-null   object\n",
      " 4   DIA                                            6006 non-null   object\n",
      " 5   Energía SADI (GWh)                             6006 non-null   object\n",
      " 6   Potencia Pico SADI (MW)                        6006 non-null   object\n",
      " 7   Hora Potencia Pico                             6006 non-null   object\n",
      " 8   Temperatura Media Diaria GBA  (°C)             6006 non-null   object\n",
      " 9   Estado del Tiempo [Claro/Nublado/Seminublado]  6006 non-null   object\n",
      "dtypes: int64(1), object(9)\n",
      "memory usage: 469.3+ KB\n"
     ]
    }
   ],
   "source": [
    "df_maximos.info()"
   ],
   "metadata": {
    "collapsed": false,
    "ExecuteTime": {
     "end_time": "2023-08-12T23:31:51.770179500Z",
     "start_time": "2023-08-12T23:31:51.751132100Z"
    }
   }
  },
  {
   "cell_type": "code",
   "execution_count": 7,
   "outputs": [
    {
     "name": "stderr",
     "output_type": "stream",
     "text": [
      "C:\\Users\\javic\\AppData\\Local\\Temp\\ipykernel_10300\\1646822360.py:1: SettingWithCopyWarning: \n",
      "A value is trying to be set on a copy of a slice from a DataFrame.\n",
      "Try using .loc[row_indexer,col_indexer] = value instead\n",
      "\n",
      "See the caveats in the documentation: https://pandas.pydata.org/pandas-docs/stable/user_guide/indexing.html#returning-a-view-versus-a-copy\n",
      "  df_maximos['Energía SADI (GWh)'] = df_maximos['Energía SADI (GWh)'].str.replace(',', '.').astype(float)\n",
      "C:\\Users\\javic\\AppData\\Local\\Temp\\ipykernel_10300\\1646822360.py:2: SettingWithCopyWarning: \n",
      "A value is trying to be set on a copy of a slice from a DataFrame.\n",
      "Try using .loc[row_indexer,col_indexer] = value instead\n",
      "\n",
      "See the caveats in the documentation: https://pandas.pydata.org/pandas-docs/stable/user_guide/indexing.html#returning-a-view-versus-a-copy\n",
      "  df_maximos['Potencia Pico SADI (MW)'] = df_maximos['Potencia Pico SADI (MW)'].str.replace(',', '.').astype(float)\n",
      "C:\\Users\\javic\\AppData\\Local\\Temp\\ipykernel_10300\\1646822360.py:3: SettingWithCopyWarning: \n",
      "A value is trying to be set on a copy of a slice from a DataFrame.\n",
      "Try using .loc[row_indexer,col_indexer] = value instead\n",
      "\n",
      "See the caveats in the documentation: https://pandas.pydata.org/pandas-docs/stable/user_guide/indexing.html#returning-a-view-versus-a-copy\n",
      "  df_maximos['Temperatura Media Diaria GBA  (°C)'] = df_maximos['Temperatura Media Diaria GBA  (°C)'].str.replace(',', '.').astype(float)\n"
     ]
    }
   ],
   "source": [
    "df_maximos['Energía SADI (GWh)'] = df_maximos['Energía SADI (GWh)'].str.replace(',', '.').astype(float)\n",
    "df_maximos['Potencia Pico SADI (MW)'] = df_maximos['Potencia Pico SADI (MW)'].str.replace(',', '.').astype(float)\n",
    "df_maximos['Temperatura Media Diaria GBA  (°C)'] = df_maximos['Temperatura Media Diaria GBA  (°C)'].str.replace(',', '.').astype(float)"
   ],
   "metadata": {
    "collapsed": false,
    "ExecuteTime": {
     "end_time": "2023-08-12T23:45:42.525363100Z",
     "start_time": "2023-08-12T23:45:42.521350800Z"
    }
   }
  },
  {
   "cell_type": "code",
   "execution_count": 10,
   "outputs": [
    {
     "name": "stderr",
     "output_type": "stream",
     "text": [
      "C:\\Users\\javic\\AppData\\Local\\Temp\\ipykernel_10300\\2925337437.py:1: SettingWithCopyWarning: \n",
      "A value is trying to be set on a copy of a slice from a DataFrame.\n",
      "Try using .loc[row_indexer,col_indexer] = value instead\n",
      "\n",
      "See the caveats in the documentation: https://pandas.pydata.org/pandas-docs/stable/user_guide/indexing.html#returning-a-view-versus-a-copy\n",
      "  df_maximos['Hora Potencia Pico'] = df_maximos['Hora Potencia Pico'].str.replace(',', ':')\n"
     ]
    },
    {
     "ename": "ValueError",
     "evalue": "time data \"9/5/2021 210:50\" doesn't match format \"%m/%d/%Y %H:%M\", at position 5361. You might want to try:\n    - passing `format` if your strings have a consistent format;\n    - passing `format='ISO8601'` if your strings are all ISO8601 but not necessarily in exactly the same format;\n    - passing `format='mixed'`, and the format will be inferred for each element individually. You might want to use `dayfirst` alongside this.",
     "output_type": "error",
     "traceback": [
      "\u001B[1;31m---------------------------------------------------------------------------\u001B[0m",
      "\u001B[1;31mValueError\u001B[0m                                Traceback (most recent call last)",
      "Cell \u001B[1;32mIn[10], line 2\u001B[0m\n\u001B[0;32m      1\u001B[0m df_maximos[\u001B[38;5;124m'\u001B[39m\u001B[38;5;124mHora Potencia Pico\u001B[39m\u001B[38;5;124m'\u001B[39m] \u001B[38;5;241m=\u001B[39m df_maximos[\u001B[38;5;124m'\u001B[39m\u001B[38;5;124mHora Potencia Pico\u001B[39m\u001B[38;5;124m'\u001B[39m]\u001B[38;5;241m.\u001B[39mstr\u001B[38;5;241m.\u001B[39mreplace(\u001B[38;5;124m'\u001B[39m\u001B[38;5;124m,\u001B[39m\u001B[38;5;124m'\u001B[39m, \u001B[38;5;124m'\u001B[39m\u001B[38;5;124m:\u001B[39m\u001B[38;5;124m'\u001B[39m)\n\u001B[1;32m----> 2\u001B[0m df_maximos[\u001B[38;5;124m'\u001B[39m\u001B[38;5;124mfecha_hora_potencia_pico\u001B[39m\u001B[38;5;124m'\u001B[39m] \u001B[38;5;241m=\u001B[39m \u001B[43mpd\u001B[49m\u001B[38;5;241;43m.\u001B[39;49m\u001B[43mto_datetime\u001B[49m\u001B[43m(\u001B[49m\u001B[43mdf_maximos\u001B[49m\u001B[43m[\u001B[49m\u001B[38;5;124;43m'\u001B[39;49m\u001B[38;5;124;43mFECHA\u001B[39;49m\u001B[38;5;124;43m'\u001B[39;49m\u001B[43m]\u001B[49m\u001B[43m \u001B[49m\u001B[38;5;241;43m+\u001B[39;49m\u001B[43m \u001B[49m\u001B[38;5;124;43m'\u001B[39;49m\u001B[38;5;124;43m \u001B[39;49m\u001B[38;5;124;43m'\u001B[39;49m\u001B[43m \u001B[49m\u001B[38;5;241;43m+\u001B[39;49m\u001B[43m \u001B[49m\u001B[43mdf_maximos\u001B[49m\u001B[43m[\u001B[49m\u001B[38;5;124;43m'\u001B[39;49m\u001B[38;5;124;43mHora Potencia Pico\u001B[39;49m\u001B[38;5;124;43m'\u001B[39;49m\u001B[43m]\u001B[49m\u001B[43m)\u001B[49m\n",
      "File \u001B[1;32m~\\Documents\\GitHub\\Contar-Con-Datos-2023\\venv\\Lib\\site-packages\\pandas\\core\\tools\\datetimes.py:1050\u001B[0m, in \u001B[0;36mto_datetime\u001B[1;34m(arg, errors, dayfirst, yearfirst, utc, format, exact, unit, infer_datetime_format, origin, cache)\u001B[0m\n\u001B[0;32m   1048\u001B[0m         result \u001B[38;5;241m=\u001B[39m arg\u001B[38;5;241m.\u001B[39mmap(cache_array)\n\u001B[0;32m   1049\u001B[0m     \u001B[38;5;28;01melse\u001B[39;00m:\n\u001B[1;32m-> 1050\u001B[0m         values \u001B[38;5;241m=\u001B[39m \u001B[43mconvert_listlike\u001B[49m\u001B[43m(\u001B[49m\u001B[43marg\u001B[49m\u001B[38;5;241;43m.\u001B[39;49m\u001B[43m_values\u001B[49m\u001B[43m,\u001B[49m\u001B[43m \u001B[49m\u001B[38;5;28;43mformat\u001B[39;49m\u001B[43m)\u001B[49m\n\u001B[0;32m   1051\u001B[0m         result \u001B[38;5;241m=\u001B[39m arg\u001B[38;5;241m.\u001B[39m_constructor(values, index\u001B[38;5;241m=\u001B[39marg\u001B[38;5;241m.\u001B[39mindex, name\u001B[38;5;241m=\u001B[39marg\u001B[38;5;241m.\u001B[39mname)\n\u001B[0;32m   1052\u001B[0m \u001B[38;5;28;01melif\u001B[39;00m \u001B[38;5;28misinstance\u001B[39m(arg, (ABCDataFrame, abc\u001B[38;5;241m.\u001B[39mMutableMapping)):\n",
      "File \u001B[1;32m~\\Documents\\GitHub\\Contar-Con-Datos-2023\\venv\\Lib\\site-packages\\pandas\\core\\tools\\datetimes.py:453\u001B[0m, in \u001B[0;36m_convert_listlike_datetimes\u001B[1;34m(arg, format, name, utc, unit, errors, dayfirst, yearfirst, exact)\u001B[0m\n\u001B[0;32m    451\u001B[0m \u001B[38;5;66;03m# `format` could be inferred, or user didn't ask for mixed-format parsing.\u001B[39;00m\n\u001B[0;32m    452\u001B[0m \u001B[38;5;28;01mif\u001B[39;00m \u001B[38;5;28mformat\u001B[39m \u001B[38;5;129;01mis\u001B[39;00m \u001B[38;5;129;01mnot\u001B[39;00m \u001B[38;5;28;01mNone\u001B[39;00m \u001B[38;5;129;01mand\u001B[39;00m \u001B[38;5;28mformat\u001B[39m \u001B[38;5;241m!=\u001B[39m \u001B[38;5;124m\"\u001B[39m\u001B[38;5;124mmixed\u001B[39m\u001B[38;5;124m\"\u001B[39m:\n\u001B[1;32m--> 453\u001B[0m     \u001B[38;5;28;01mreturn\u001B[39;00m \u001B[43m_array_strptime_with_fallback\u001B[49m\u001B[43m(\u001B[49m\u001B[43marg\u001B[49m\u001B[43m,\u001B[49m\u001B[43m \u001B[49m\u001B[43mname\u001B[49m\u001B[43m,\u001B[49m\u001B[43m \u001B[49m\u001B[43mutc\u001B[49m\u001B[43m,\u001B[49m\u001B[43m \u001B[49m\u001B[38;5;28;43mformat\u001B[39;49m\u001B[43m,\u001B[49m\u001B[43m \u001B[49m\u001B[43mexact\u001B[49m\u001B[43m,\u001B[49m\u001B[43m \u001B[49m\u001B[43merrors\u001B[49m\u001B[43m)\u001B[49m\n\u001B[0;32m    455\u001B[0m result, tz_parsed \u001B[38;5;241m=\u001B[39m objects_to_datetime64ns(\n\u001B[0;32m    456\u001B[0m     arg,\n\u001B[0;32m    457\u001B[0m     dayfirst\u001B[38;5;241m=\u001B[39mdayfirst,\n\u001B[1;32m   (...)\u001B[0m\n\u001B[0;32m    461\u001B[0m     allow_object\u001B[38;5;241m=\u001B[39m\u001B[38;5;28;01mTrue\u001B[39;00m,\n\u001B[0;32m    462\u001B[0m )\n\u001B[0;32m    464\u001B[0m \u001B[38;5;28;01mif\u001B[39;00m tz_parsed \u001B[38;5;129;01mis\u001B[39;00m \u001B[38;5;129;01mnot\u001B[39;00m \u001B[38;5;28;01mNone\u001B[39;00m:\n\u001B[0;32m    465\u001B[0m     \u001B[38;5;66;03m# We can take a shortcut since the datetime64 numpy array\u001B[39;00m\n\u001B[0;32m    466\u001B[0m     \u001B[38;5;66;03m# is in UTC\u001B[39;00m\n",
      "File \u001B[1;32m~\\Documents\\GitHub\\Contar-Con-Datos-2023\\venv\\Lib\\site-packages\\pandas\\core\\tools\\datetimes.py:484\u001B[0m, in \u001B[0;36m_array_strptime_with_fallback\u001B[1;34m(arg, name, utc, fmt, exact, errors)\u001B[0m\n\u001B[0;32m    473\u001B[0m \u001B[38;5;28;01mdef\u001B[39;00m \u001B[38;5;21m_array_strptime_with_fallback\u001B[39m(\n\u001B[0;32m    474\u001B[0m     arg,\n\u001B[0;32m    475\u001B[0m     name,\n\u001B[1;32m   (...)\u001B[0m\n\u001B[0;32m    479\u001B[0m     errors: \u001B[38;5;28mstr\u001B[39m,\n\u001B[0;32m    480\u001B[0m ) \u001B[38;5;241m-\u001B[39m\u001B[38;5;241m>\u001B[39m Index:\n\u001B[0;32m    481\u001B[0m \u001B[38;5;250m    \u001B[39m\u001B[38;5;124;03m\"\"\"\u001B[39;00m\n\u001B[0;32m    482\u001B[0m \u001B[38;5;124;03m    Call array_strptime, with fallback behavior depending on 'errors'.\u001B[39;00m\n\u001B[0;32m    483\u001B[0m \u001B[38;5;124;03m    \"\"\"\u001B[39;00m\n\u001B[1;32m--> 484\u001B[0m     result, timezones \u001B[38;5;241m=\u001B[39m \u001B[43marray_strptime\u001B[49m\u001B[43m(\u001B[49m\u001B[43marg\u001B[49m\u001B[43m,\u001B[49m\u001B[43m \u001B[49m\u001B[43mfmt\u001B[49m\u001B[43m,\u001B[49m\u001B[43m \u001B[49m\u001B[43mexact\u001B[49m\u001B[38;5;241;43m=\u001B[39;49m\u001B[43mexact\u001B[49m\u001B[43m,\u001B[49m\u001B[43m \u001B[49m\u001B[43merrors\u001B[49m\u001B[38;5;241;43m=\u001B[39;49m\u001B[43merrors\u001B[49m\u001B[43m,\u001B[49m\u001B[43m \u001B[49m\u001B[43mutc\u001B[49m\u001B[38;5;241;43m=\u001B[39;49m\u001B[43mutc\u001B[49m\u001B[43m)\u001B[49m\n\u001B[0;32m    485\u001B[0m     \u001B[38;5;28;01mif\u001B[39;00m \u001B[38;5;28many\u001B[39m(tz \u001B[38;5;129;01mis\u001B[39;00m \u001B[38;5;129;01mnot\u001B[39;00m \u001B[38;5;28;01mNone\u001B[39;00m \u001B[38;5;28;01mfor\u001B[39;00m tz \u001B[38;5;129;01min\u001B[39;00m timezones):\n\u001B[0;32m    486\u001B[0m         \u001B[38;5;28;01mreturn\u001B[39;00m _return_parsed_timezone_results(result, timezones, utc, name)\n",
      "File \u001B[1;32m~\\Documents\\GitHub\\Contar-Con-Datos-2023\\venv\\Lib\\site-packages\\pandas\\_libs\\tslibs\\strptime.pyx:530\u001B[0m, in \u001B[0;36mpandas._libs.tslibs.strptime.array_strptime\u001B[1;34m()\u001B[0m\n",
      "File \u001B[1;32m~\\Documents\\GitHub\\Contar-Con-Datos-2023\\venv\\Lib\\site-packages\\pandas\\_libs\\tslibs\\strptime.pyx:351\u001B[0m, in \u001B[0;36mpandas._libs.tslibs.strptime.array_strptime\u001B[1;34m()\u001B[0m\n",
      "\u001B[1;31mValueError\u001B[0m: time data \"9/5/2021 210:50\" doesn't match format \"%m/%d/%Y %H:%M\", at position 5361. You might want to try:\n    - passing `format` if your strings have a consistent format;\n    - passing `format='ISO8601'` if your strings are all ISO8601 but not necessarily in exactly the same format;\n    - passing `format='mixed'`, and the format will be inferred for each element individually. You might want to use `dayfirst` alongside this."
     ]
    }
   ],
   "source": [
    "df_maximos['Hora Potencia Pico'] = df_maximos['Hora Potencia Pico'].str.replace(',', ':')\n",
    "df_maximos['fecha_hora_potencia_pico'] = pd.to_datetime(df_maximos['FECHA'] + ' ' + df_maximos['Hora Potencia Pico'])"
   ],
   "metadata": {
    "collapsed": false,
    "ExecuteTime": {
     "end_time": "2023-08-12T23:48:03.170618700Z",
     "start_time": "2023-08-12T23:48:02.901599600Z"
    }
   }
  },
  {
   "cell_type": "markdown",
   "source": [
    "Para despues: verificar errores en formato de hora en la columna \"Hora Potencia Pico\""
   ],
   "metadata": {
    "collapsed": false
   }
  },
  {
   "cell_type": "code",
   "execution_count": 11,
   "outputs": [
    {
     "data": {
      "text/plain": "  VERANO / INVIERNO  SEMANA     FECHA TIPO DIA        DIA  Energía SADI (GWh)  \\\n0            VERANO       1  1/1/2007  FERIADO      Lunes               277.6   \n1            VERANO       1  1/2/2007    HÁBIL     Martes               325.4   \n2            VERANO       1  1/3/2007    HÁBIL  Miércoles               325.5   \n3            VERANO       1  1/4/2007    HÁBIL     Jueves               334.0   \n4            VERANO       1  1/5/2007    HÁBIL    Viernes               320.3   \n\n   Potencia Pico SADI (MW) Hora Potencia Pico  \\\n0                  14157.0               21:5   \n1                  15801.0              21:02   \n2                  16136.0              21:11   \n3                  16782.0              21:16   \n4                  15321.0              21:23   \n\n   Temperatura Media Diaria GBA  (°C)  \\\n0                                29.2   \n1                                26.0   \n2                                25.0   \n3                                25.0   \n4                                22.6   \n\n  Estado del Tiempo [Claro/Nublado/Seminublado]  \n0                                             C  \n1                                             N  \n2                                             N  \n3                                             N  \n4                                             C  ",
      "text/html": "<div>\n<style scoped>\n    .dataframe tbody tr th:only-of-type {\n        vertical-align: middle;\n    }\n\n    .dataframe tbody tr th {\n        vertical-align: top;\n    }\n\n    .dataframe thead th {\n        text-align: right;\n    }\n</style>\n<table border=\"1\" class=\"dataframe\">\n  <thead>\n    <tr style=\"text-align: right;\">\n      <th></th>\n      <th>VERANO / INVIERNO</th>\n      <th>SEMANA</th>\n      <th>FECHA</th>\n      <th>TIPO DIA</th>\n      <th>DIA</th>\n      <th>Energía SADI (GWh)</th>\n      <th>Potencia Pico SADI (MW)</th>\n      <th>Hora Potencia Pico</th>\n      <th>Temperatura Media Diaria GBA  (°C)</th>\n      <th>Estado del Tiempo [Claro/Nublado/Seminublado]</th>\n    </tr>\n  </thead>\n  <tbody>\n    <tr>\n      <th>0</th>\n      <td>VERANO</td>\n      <td>1</td>\n      <td>1/1/2007</td>\n      <td>FERIADO</td>\n      <td>Lunes</td>\n      <td>277.6</td>\n      <td>14157.0</td>\n      <td>21:5</td>\n      <td>29.2</td>\n      <td>C</td>\n    </tr>\n    <tr>\n      <th>1</th>\n      <td>VERANO</td>\n      <td>1</td>\n      <td>1/2/2007</td>\n      <td>HÁBIL</td>\n      <td>Martes</td>\n      <td>325.4</td>\n      <td>15801.0</td>\n      <td>21:02</td>\n      <td>26.0</td>\n      <td>N</td>\n    </tr>\n    <tr>\n      <th>2</th>\n      <td>VERANO</td>\n      <td>1</td>\n      <td>1/3/2007</td>\n      <td>HÁBIL</td>\n      <td>Miércoles</td>\n      <td>325.5</td>\n      <td>16136.0</td>\n      <td>21:11</td>\n      <td>25.0</td>\n      <td>N</td>\n    </tr>\n    <tr>\n      <th>3</th>\n      <td>VERANO</td>\n      <td>1</td>\n      <td>1/4/2007</td>\n      <td>HÁBIL</td>\n      <td>Jueves</td>\n      <td>334.0</td>\n      <td>16782.0</td>\n      <td>21:16</td>\n      <td>25.0</td>\n      <td>N</td>\n    </tr>\n    <tr>\n      <th>4</th>\n      <td>VERANO</td>\n      <td>1</td>\n      <td>1/5/2007</td>\n      <td>HÁBIL</td>\n      <td>Viernes</td>\n      <td>320.3</td>\n      <td>15321.0</td>\n      <td>21:23</td>\n      <td>22.6</td>\n      <td>C</td>\n    </tr>\n  </tbody>\n</table>\n</div>"
     },
     "execution_count": 11,
     "metadata": {},
     "output_type": "execute_result"
    }
   ],
   "source": [
    "df_maximos.head()"
   ],
   "metadata": {
    "collapsed": false,
    "ExecuteTime": {
     "end_time": "2023-08-12T23:52:10.022749400Z",
     "start_time": "2023-08-12T23:52:10.015505400Z"
    }
   }
  }
 ],
 "metadata": {
  "kernelspec": {
   "display_name": "Python 3",
   "language": "python",
   "name": "python3"
  },
  "language_info": {
   "codemirror_mode": {
    "name": "ipython",
    "version": 2
   },
   "file_extension": ".py",
   "mimetype": "text/x-python",
   "name": "python",
   "nbconvert_exporter": "python",
   "pygments_lexer": "ipython2",
   "version": "2.7.6"
  }
 },
 "nbformat": 4,
 "nbformat_minor": 0
}
